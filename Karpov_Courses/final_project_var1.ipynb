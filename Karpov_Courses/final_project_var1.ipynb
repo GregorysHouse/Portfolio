{
 "cells": [
  {
   "cell_type": "code",
   "execution_count": 13,
   "metadata": {},
   "outputs": [],
   "source": [
    "from io import BytesIO\n",
    "import pandas as pd\n",
    "import datetime\n",
    "import vk_api\n",
    "import os\n",
    "import requests\n",
    "import json\n",
    "import random\n",
    "import numpy as np\n",
    "import plotly.express as px\n",
    "import os\n",
    "\n",
    "from scipy import stats\n",
    "from scipy.stats import norm\n",
    "import statsmodels.api as sm\n",
    "from tqdm.auto import tqdm\n",
    "\n",
    "%matplotlib inline\n",
    "import matplotlib.pyplot as plt\n",
    "import seaborn as sns\n",
    "import sys\n",
    "\n",
    "\n",
    "import warnings\n",
    "warnings.filterwarnings('ignore')\n",
    "\n",
    "from datetime import datetime\n",
    "from datetime import timedelta\n",
    "\n",
    "import gspread\n",
    "from df2gspread import df2gspread as d2g\n",
    "from oauth2client.service_account import ServiceAccountCredentials\n",
    "\n",
    "plt.style.use(\"ggplot\")\n",
    "plt.rcParams[\"figure.figsize\"] = (16, 9)"
   ]
  },
  {
   "cell_type": "markdown",
   "metadata": {},
   "source": [
    "Проект: вариант 1\n",
    "Представьте, что вы работаете в компании, которая разрабатывает мобильные игры. К вам пришел менеджер с рядом задач по исследованию нескольких аспектов мобильного приложения:\n",
    "\n",
    "В первую очередь, его интересует показатель retention. Напишите функцию для его подсчета.\n",
    "\n",
    "Помимо этого, в компании провели A/B тестирование наборов акционных предложений. На основе имеющихся данных определите, какой набор можно считать лучшим и на основе каких метрик стоит принять правильное решение.\n",
    "\n",
    "Предложите метрики для оценки результатов последнего прошедшего тематического события в игре."
   ]
  },
  {
   "cell_type": "markdown",
   "metadata": {},
   "source": [
    "Retention – один из самых важных показателей в компании. Ваша задача – написать функцию, которая будет считать retention игроков (по дням от даты регистрации игрока). Данные лежат в папке shared и имеют следующую структуру:"
   ]
  },
  {
   "cell_type": "markdown",
   "metadata": {},
   "source": [
    "### TAKS 1"
   ]
  },
  {
   "cell_type": "code",
   "execution_count": 28,
   "metadata": {},
   "outputs": [],
   "source": [
    "time_reg = pd.read_csv(\"/mnt/HC_Volume_18315164/home-jupyter/jupyter-g-zigora-23/shared/problem1-reg_data.csv\", sep=\";\")"
   ]
  },
  {
   "cell_type": "code",
   "execution_count": 29,
   "metadata": {},
   "outputs": [
    {
     "data": {
      "text/html": [
       "<div>\n",
       "<style scoped>\n",
       "    .dataframe tbody tr th:only-of-type {\n",
       "        vertical-align: middle;\n",
       "    }\n",
       "\n",
       "    .dataframe tbody tr th {\n",
       "        vertical-align: top;\n",
       "    }\n",
       "\n",
       "    .dataframe thead th {\n",
       "        text-align: right;\n",
       "    }\n",
       "</style>\n",
       "<table border=\"1\" class=\"dataframe\">\n",
       "  <thead>\n",
       "    <tr style=\"text-align: right;\">\n",
       "      <th></th>\n",
       "      <th>reg_ts</th>\n",
       "      <th>uid</th>\n",
       "    </tr>\n",
       "  </thead>\n",
       "  <tbody>\n",
       "    <tr>\n",
       "      <th>0</th>\n",
       "      <td>911382223</td>\n",
       "      <td>1</td>\n",
       "    </tr>\n",
       "    <tr>\n",
       "      <th>1</th>\n",
       "      <td>932683089</td>\n",
       "      <td>2</td>\n",
       "    </tr>\n",
       "    <tr>\n",
       "      <th>2</th>\n",
       "      <td>947802447</td>\n",
       "      <td>3</td>\n",
       "    </tr>\n",
       "    <tr>\n",
       "      <th>3</th>\n",
       "      <td>959523541</td>\n",
       "      <td>4</td>\n",
       "    </tr>\n",
       "    <tr>\n",
       "      <th>4</th>\n",
       "      <td>969103313</td>\n",
       "      <td>5</td>\n",
       "    </tr>\n",
       "    <tr>\n",
       "      <th>...</th>\n",
       "      <td>...</td>\n",
       "      <td>...</td>\n",
       "    </tr>\n",
       "    <tr>\n",
       "      <th>999995</th>\n",
       "      <td>1600874034</td>\n",
       "      <td>1110618</td>\n",
       "    </tr>\n",
       "    <tr>\n",
       "      <th>999996</th>\n",
       "      <td>1600874086</td>\n",
       "      <td>1110619</td>\n",
       "    </tr>\n",
       "    <tr>\n",
       "      <th>999997</th>\n",
       "      <td>1600874139</td>\n",
       "      <td>1110620</td>\n",
       "    </tr>\n",
       "    <tr>\n",
       "      <th>999998</th>\n",
       "      <td>1600874191</td>\n",
       "      <td>1110621</td>\n",
       "    </tr>\n",
       "    <tr>\n",
       "      <th>999999</th>\n",
       "      <td>1600874244</td>\n",
       "      <td>1110622</td>\n",
       "    </tr>\n",
       "  </tbody>\n",
       "</table>\n",
       "<p>1000000 rows × 2 columns</p>\n",
       "</div>"
      ],
      "text/plain": [
       "            reg_ts      uid\n",
       "0        911382223        1\n",
       "1        932683089        2\n",
       "2        947802447        3\n",
       "3        959523541        4\n",
       "4        969103313        5\n",
       "...            ...      ...\n",
       "999995  1600874034  1110618\n",
       "999996  1600874086  1110619\n",
       "999997  1600874139  1110620\n",
       "999998  1600874191  1110621\n",
       "999999  1600874244  1110622\n",
       "\n",
       "[1000000 rows x 2 columns]"
      ]
     },
     "execution_count": 29,
     "metadata": {},
     "output_type": "execute_result"
    }
   ],
   "source": [
    "time_reg"
   ]
  },
  {
   "cell_type": "code",
   "execution_count": 30,
   "metadata": {},
   "outputs": [],
   "source": [
    "time_enter_game = pd.read_csv(\"/mnt/HC_Volume_18315164/home-jupyter/jupyter-g-zigora-23/shared/problem1-auth_data.csv\", sep=\";\")"
   ]
  },
  {
   "cell_type": "code",
   "execution_count": 31,
   "metadata": {
    "scrolled": true
   },
   "outputs": [
    {
     "data": {
      "text/html": [
       "<div>\n",
       "<style scoped>\n",
       "    .dataframe tbody tr th:only-of-type {\n",
       "        vertical-align: middle;\n",
       "    }\n",
       "\n",
       "    .dataframe tbody tr th {\n",
       "        vertical-align: top;\n",
       "    }\n",
       "\n",
       "    .dataframe thead th {\n",
       "        text-align: right;\n",
       "    }\n",
       "</style>\n",
       "<table border=\"1\" class=\"dataframe\">\n",
       "  <thead>\n",
       "    <tr style=\"text-align: right;\">\n",
       "      <th></th>\n",
       "      <th>auth_ts</th>\n",
       "      <th>uid</th>\n",
       "    </tr>\n",
       "  </thead>\n",
       "  <tbody>\n",
       "    <tr>\n",
       "      <th>0</th>\n",
       "      <td>911382223</td>\n",
       "      <td>1</td>\n",
       "    </tr>\n",
       "    <tr>\n",
       "      <th>1</th>\n",
       "      <td>932683089</td>\n",
       "      <td>2</td>\n",
       "    </tr>\n",
       "    <tr>\n",
       "      <th>2</th>\n",
       "      <td>932921206</td>\n",
       "      <td>2</td>\n",
       "    </tr>\n",
       "    <tr>\n",
       "      <th>3</th>\n",
       "      <td>933393015</td>\n",
       "      <td>2</td>\n",
       "    </tr>\n",
       "    <tr>\n",
       "      <th>4</th>\n",
       "      <td>933875379</td>\n",
       "      <td>2</td>\n",
       "    </tr>\n",
       "    <tr>\n",
       "      <th>...</th>\n",
       "      <td>...</td>\n",
       "      <td>...</td>\n",
       "    </tr>\n",
       "    <tr>\n",
       "      <th>9601008</th>\n",
       "      <td>1600874034</td>\n",
       "      <td>1110618</td>\n",
       "    </tr>\n",
       "    <tr>\n",
       "      <th>9601009</th>\n",
       "      <td>1600874086</td>\n",
       "      <td>1110619</td>\n",
       "    </tr>\n",
       "    <tr>\n",
       "      <th>9601010</th>\n",
       "      <td>1600874139</td>\n",
       "      <td>1110620</td>\n",
       "    </tr>\n",
       "    <tr>\n",
       "      <th>9601011</th>\n",
       "      <td>1600874191</td>\n",
       "      <td>1110621</td>\n",
       "    </tr>\n",
       "    <tr>\n",
       "      <th>9601012</th>\n",
       "      <td>1600874244</td>\n",
       "      <td>1110622</td>\n",
       "    </tr>\n",
       "  </tbody>\n",
       "</table>\n",
       "<p>9601013 rows × 2 columns</p>\n",
       "</div>"
      ],
      "text/plain": [
       "            auth_ts      uid\n",
       "0         911382223        1\n",
       "1         932683089        2\n",
       "2         932921206        2\n",
       "3         933393015        2\n",
       "4         933875379        2\n",
       "...             ...      ...\n",
       "9601008  1600874034  1110618\n",
       "9601009  1600874086  1110619\n",
       "9601010  1600874139  1110620\n",
       "9601011  1600874191  1110621\n",
       "9601012  1600874244  1110622\n",
       "\n",
       "[9601013 rows x 2 columns]"
      ]
     },
     "execution_count": 31,
     "metadata": {},
     "output_type": "execute_result"
    }
   ],
   "source": [
    "time_enter_game"
   ]
  },
  {
   "cell_type": "code",
   "execution_count": 32,
   "metadata": {},
   "outputs": [
    {
     "data": {
      "text/html": [
       "<div>\n",
       "<style scoped>\n",
       "    .dataframe tbody tr th:only-of-type {\n",
       "        vertical-align: middle;\n",
       "    }\n",
       "\n",
       "    .dataframe tbody tr th {\n",
       "        vertical-align: top;\n",
       "    }\n",
       "\n",
       "    .dataframe thead th {\n",
       "        text-align: right;\n",
       "    }\n",
       "</style>\n",
       "<table border=\"1\" class=\"dataframe\">\n",
       "  <thead>\n",
       "    <tr style=\"text-align: right;\">\n",
       "      <th></th>\n",
       "      <th>reg_ts</th>\n",
       "      <th>uid</th>\n",
       "      <th>auth_ts</th>\n",
       "    </tr>\n",
       "  </thead>\n",
       "  <tbody>\n",
       "    <tr>\n",
       "      <th>0</th>\n",
       "      <td>911382223</td>\n",
       "      <td>1</td>\n",
       "      <td>911382223</td>\n",
       "    </tr>\n",
       "    <tr>\n",
       "      <th>1</th>\n",
       "      <td>932683089</td>\n",
       "      <td>2</td>\n",
       "      <td>932683089</td>\n",
       "    </tr>\n",
       "    <tr>\n",
       "      <th>2</th>\n",
       "      <td>932683089</td>\n",
       "      <td>2</td>\n",
       "      <td>932921206</td>\n",
       "    </tr>\n",
       "    <tr>\n",
       "      <th>3</th>\n",
       "      <td>932683089</td>\n",
       "      <td>2</td>\n",
       "      <td>933393015</td>\n",
       "    </tr>\n",
       "    <tr>\n",
       "      <th>4</th>\n",
       "      <td>932683089</td>\n",
       "      <td>2</td>\n",
       "      <td>933875379</td>\n",
       "    </tr>\n",
       "  </tbody>\n",
       "</table>\n",
       "</div>"
      ],
      "text/plain": [
       "      reg_ts  uid    auth_ts\n",
       "0  911382223    1  911382223\n",
       "1  932683089    2  932683089\n",
       "2  932683089    2  932921206\n",
       "3  932683089    2  933393015\n",
       "4  932683089    2  933875379"
      ]
     },
     "execution_count": 32,
     "metadata": {},
     "output_type": "execute_result"
    }
   ],
   "source": [
    "df = time_reg.merge(time_enter_game, on = 'uid')\n",
    "df.head()"
   ]
  },
  {
   "cell_type": "code",
   "execution_count": 33,
   "metadata": {},
   "outputs": [],
   "source": [
    "df['reg_ts'] = df['reg_ts'].apply(datetime.fromtimestamp).dt.date"
   ]
  },
  {
   "cell_type": "code",
   "execution_count": null,
   "metadata": {},
   "outputs": [],
   "source": [
    "df['auth_ts'] = df['auth_ts'].apply(datetime.fromtimestamp).dt.date"
   ]
  },
  {
   "cell_type": "code",
   "execution_count": null,
   "metadata": {},
   "outputs": [],
   "source": [
    "df[['reg_ts', 'auth_ts']].max()"
   ]
  },
  {
   "cell_type": "code",
   "execution_count": null,
   "metadata": {},
   "outputs": [],
   "source": [
    "df[['reg_ts', 'auth_ts']].min()\n"
   ]
  },
  {
   "cell_type": "markdown",
   "metadata": {},
   "source": [
    "1.  Напишем функцию которая итерируется по датафрейму, и считает вовлеченность пользователей, для этого мы создадим колонку diff и произведем вычисление из даты входа в игру вычитаем дату регистрации, тем самым найдем retention.\n",
    "2. Удалим нулевой индекс так как он в себе аккумулировал все посещения приложения, больше он нам не понадобится, и дату с которой отсутсвуют данные. Это первый столбец и псоледняя строка"
   ]
  },
  {
   "cell_type": "code",
   "execution_count": null,
   "metadata": {},
   "outputs": [],
   "source": [
    "def retention(start_date, df):\n",
    "    df['reg_ts'] = df['reg_ts'].apply(datetime.fromtimestamp).dt.date\n",
    "    df['auth_ts'] = df['auth_ts'].apply(datetime.fromtimestamp).dt.date\n",
    "    days_df['diff'] = days_df[\"auth_ts\"] - days_df[\"reg_ts\"]\n",
    "    pivot = df.pivot_table(index = start_date, columns = 'diff', values = uid, aggfunc = 'nunique')\n",
    "    pivot = round(pivot.divide(pivot.iloc[: , 0], axis = 'index').iloc[:-1, 1:], 4)\n",
    "    "
   ]
  },
  {
   "cell_type": "markdown",
   "metadata": {},
   "source": [
    "3. Работа с датафреймом ограничивается 10 днями, так как по моему мнению, этого времени достаточно для ознакомления с данными, так как в игре добавлено событие (event), есть смысл сделать несколько периодичностей. Например,  Когорта№1 - 7 дней,Когорта№2 - 14 дней,               Когорта 3№ - 31 день,если больше 31 дня то ошибка, если нет то оставляем, и с 29-31 дни будут относиться к когорте номер 3)."
   ]
  },
  {
   "cell_type": "code",
   "execution_count": null,
   "metadata": {},
   "outputs": [],
   "source": [
    "# df['reg_ts'] = df['reg_ts'].apply(datetime.fromtimestamp).dt.date\n",
    "# df['auth_ts'] = df['auth_ts'].apply(datetime.fromtimestamp).dt.date\n",
    "df = df[df[\"reg_ts\"]>=pd.to_datetime(\"2020-9-13\").date()]\n",
    "df['diff'] = df[\"auth_ts\"] - df[\"reg_ts\"]\n",
    "df = df[df['diff'] <= pd.to_timedelta(\"10 days\")]\n",
    "pivot = df.pivot_table(index = \"reg_ts\", columns = 'diff', values = \"uid\", aggfunc=lambda x: len(x.unique()))\n",
    "pivot = round(pivot.divide(pivot.iloc[: , 0], axis = 'index').iloc[:-1, 1:], 4)"
   ]
  },
  {
   "cell_type": "markdown",
   "metadata": {},
   "source": [
    "4. Визуализируем когортный анализ за 10 дней. Цветовая палитра розовая в трех оттенках. Итог: График визуализирует retention  в какой день зашло больше всего людей которые зарегестрировались в определённую дату."
   ]
  },
  {
   "cell_type": "code",
   "execution_count": null,
   "metadata": {},
   "outputs": [],
   "source": [
    "plt.figure(figsize = (30, 15))\n",
    "cmap = ['#fbe2e8', '#eaadbd', '#c98496']\n",
    "sns.heatmap(pivot, \n",
    "                    annot = True, \n",
    "                    xticklabels = pivot.columns.astype('str'), \n",
    "                    yticklabels = pivot.index.astype('str'),\n",
    "                    cmap = cmap,\n",
    "                    fmt='.2%',\n",
    "                    annot_kws = dict(\n",
    "                        color = 'black',\n",
    "                        fontsize = 16),\n",
    "                    linewidth = 1,\n",
    "                    linecolor = 'black',\n",
    "                    cbar_kws = dict( extend = 'min',\n",
    "                        ticks = np.arange(1, 1))\n",
    "           )\n",
    "plt.xlabel(' ')\n",
    "plt.ylabel(' ')\n",
    "plt.xticks(color = 'black',\n",
    "                   fontsize = 16,\n",
    "                   rotation = 90)\n",
    "plt.yticks(rotation = 0,\n",
    "                   color = 'black',\n",
    "                   fontsize = 16)\n",
    "plt.title(label = f'''Когортный анализ за {df['diff'].max().days} дней''',\n",
    "                  color = 'black',\n",
    "                  fontsize = 20,\n",
    "                  x = 0.5)\n",
    "plt.show()"
   ]
  },
  {
   "cell_type": "code",
   "execution_count": null,
   "metadata": {},
   "outputs": [],
   "source": []
  },
  {
   "cell_type": "code",
   "execution_count": null,
   "metadata": {},
   "outputs": [],
   "source": []
  },
  {
   "cell_type": "markdown",
   "metadata": {},
   "source": [
    "### TASK 2"
   ]
  },
  {
   "cell_type": "markdown",
   "metadata": {},
   "source": [
    "Имеются результаты A/B теста, в котором двум группам пользователей предлагались различные наборы акционных предложений. Известно, что ARPU в тестовой группе выше на 5%, чем в контрольной. При этом в контрольной группе 1928 игроков из 202103 оказались платящими, а в тестовой – 1805 из 202667.\n",
    "\n",
    "Какой набор предложений можно считать лучшим? Какие метрики стоит проанализировать для принятия правильного решения и как?"
   ]
  },
  {
   "cell_type": "code",
   "execution_count": 34,
   "metadata": {},
   "outputs": [],
   "source": [
    "df = pd.read_csv(\"/mnt/HC_Volume_18315164/home-jupyter/jupyter-g-zigora-23/final_project/Проект_1_Задание_2.csv\", sep=\";\")"
   ]
  },
  {
   "cell_type": "code",
   "execution_count": 35,
   "metadata": {
    "scrolled": true
   },
   "outputs": [
    {
     "data": {
      "text/html": [
       "<div>\n",
       "<style scoped>\n",
       "    .dataframe tbody tr th:only-of-type {\n",
       "        vertical-align: middle;\n",
       "    }\n",
       "\n",
       "    .dataframe tbody tr th {\n",
       "        vertical-align: top;\n",
       "    }\n",
       "\n",
       "    .dataframe thead th {\n",
       "        text-align: right;\n",
       "    }\n",
       "</style>\n",
       "<table border=\"1\" class=\"dataframe\">\n",
       "  <thead>\n",
       "    <tr style=\"text-align: right;\">\n",
       "      <th></th>\n",
       "      <th>user_id</th>\n",
       "      <th>revenue</th>\n",
       "      <th>testgroup</th>\n",
       "    </tr>\n",
       "  </thead>\n",
       "  <tbody>\n",
       "    <tr>\n",
       "      <th>0</th>\n",
       "      <td>1</td>\n",
       "      <td>0</td>\n",
       "      <td>b</td>\n",
       "    </tr>\n",
       "    <tr>\n",
       "      <th>1</th>\n",
       "      <td>2</td>\n",
       "      <td>0</td>\n",
       "      <td>a</td>\n",
       "    </tr>\n",
       "    <tr>\n",
       "      <th>2</th>\n",
       "      <td>3</td>\n",
       "      <td>0</td>\n",
       "      <td>a</td>\n",
       "    </tr>\n",
       "    <tr>\n",
       "      <th>3</th>\n",
       "      <td>4</td>\n",
       "      <td>0</td>\n",
       "      <td>b</td>\n",
       "    </tr>\n",
       "    <tr>\n",
       "      <th>4</th>\n",
       "      <td>5</td>\n",
       "      <td>0</td>\n",
       "      <td>b</td>\n",
       "    </tr>\n",
       "    <tr>\n",
       "      <th>...</th>\n",
       "      <td>...</td>\n",
       "      <td>...</td>\n",
       "      <td>...</td>\n",
       "    </tr>\n",
       "    <tr>\n",
       "      <th>404765</th>\n",
       "      <td>404766</td>\n",
       "      <td>0</td>\n",
       "      <td>a</td>\n",
       "    </tr>\n",
       "    <tr>\n",
       "      <th>404766</th>\n",
       "      <td>404767</td>\n",
       "      <td>0</td>\n",
       "      <td>b</td>\n",
       "    </tr>\n",
       "    <tr>\n",
       "      <th>404767</th>\n",
       "      <td>404768</td>\n",
       "      <td>231</td>\n",
       "      <td>a</td>\n",
       "    </tr>\n",
       "    <tr>\n",
       "      <th>404768</th>\n",
       "      <td>404769</td>\n",
       "      <td>0</td>\n",
       "      <td>a</td>\n",
       "    </tr>\n",
       "    <tr>\n",
       "      <th>404769</th>\n",
       "      <td>404770</td>\n",
       "      <td>0</td>\n",
       "      <td>b</td>\n",
       "    </tr>\n",
       "  </tbody>\n",
       "</table>\n",
       "<p>404770 rows × 3 columns</p>\n",
       "</div>"
      ],
      "text/plain": [
       "        user_id  revenue testgroup\n",
       "0             1        0         b\n",
       "1             2        0         a\n",
       "2             3        0         a\n",
       "3             4        0         b\n",
       "4             5        0         b\n",
       "...         ...      ...       ...\n",
       "404765   404766        0         a\n",
       "404766   404767        0         b\n",
       "404767   404768      231         a\n",
       "404768   404769        0         a\n",
       "404769   404770        0         b\n",
       "\n",
       "[404770 rows x 3 columns]"
      ]
     },
     "execution_count": 35,
     "metadata": {},
     "output_type": "execute_result"
    }
   ],
   "source": [
    "df"
   ]
  },
  {
   "cell_type": "markdown",
   "metadata": {},
   "source": [
    "### mini Task-1 \n",
    "Узнаем у какой группы преимущество в количестве платящих пользователей"
   ]
  },
  {
   "cell_type": "code",
   "execution_count": 36,
   "metadata": {
    "scrolled": false
   },
   "outputs": [
    {
     "data": {
      "text/html": [
       "<div>\n",
       "<style scoped>\n",
       "    .dataframe tbody tr th:only-of-type {\n",
       "        vertical-align: middle;\n",
       "    }\n",
       "\n",
       "    .dataframe tbody tr th {\n",
       "        vertical-align: top;\n",
       "    }\n",
       "\n",
       "    .dataframe thead th {\n",
       "        text-align: right;\n",
       "    }\n",
       "</style>\n",
       "<table border=\"1\" class=\"dataframe\">\n",
       "  <thead>\n",
       "    <tr style=\"text-align: right;\">\n",
       "      <th></th>\n",
       "      <th>user_id</th>\n",
       "      <th>revenue</th>\n",
       "      <th>testgroup</th>\n",
       "    </tr>\n",
       "  </thead>\n",
       "  <tbody>\n",
       "    <tr>\n",
       "      <th>72</th>\n",
       "      <td>73</td>\n",
       "      <td>351</td>\n",
       "      <td>a</td>\n",
       "    </tr>\n",
       "    <tr>\n",
       "      <th>341</th>\n",
       "      <td>342</td>\n",
       "      <td>290</td>\n",
       "      <td>a</td>\n",
       "    </tr>\n",
       "    <tr>\n",
       "      <th>385</th>\n",
       "      <td>386</td>\n",
       "      <td>250</td>\n",
       "      <td>a</td>\n",
       "    </tr>\n",
       "    <tr>\n",
       "      <th>416</th>\n",
       "      <td>417</td>\n",
       "      <td>37324</td>\n",
       "      <td>a</td>\n",
       "    </tr>\n",
       "    <tr>\n",
       "      <th>712</th>\n",
       "      <td>713</td>\n",
       "      <td>255</td>\n",
       "      <td>a</td>\n",
       "    </tr>\n",
       "    <tr>\n",
       "      <th>...</th>\n",
       "      <td>...</td>\n",
       "      <td>...</td>\n",
       "      <td>...</td>\n",
       "    </tr>\n",
       "    <tr>\n",
       "      <th>404304</th>\n",
       "      <td>404305</td>\n",
       "      <td>360</td>\n",
       "      <td>a</td>\n",
       "    </tr>\n",
       "    <tr>\n",
       "      <th>404315</th>\n",
       "      <td>404316</td>\n",
       "      <td>262</td>\n",
       "      <td>a</td>\n",
       "    </tr>\n",
       "    <tr>\n",
       "      <th>404543</th>\n",
       "      <td>404544</td>\n",
       "      <td>369</td>\n",
       "      <td>a</td>\n",
       "    </tr>\n",
       "    <tr>\n",
       "      <th>404602</th>\n",
       "      <td>404603</td>\n",
       "      <td>251</td>\n",
       "      <td>a</td>\n",
       "    </tr>\n",
       "    <tr>\n",
       "      <th>404767</th>\n",
       "      <td>404768</td>\n",
       "      <td>231</td>\n",
       "      <td>a</td>\n",
       "    </tr>\n",
       "  </tbody>\n",
       "</table>\n",
       "<p>1928 rows × 3 columns</p>\n",
       "</div>"
      ],
      "text/plain": [
       "        user_id  revenue testgroup\n",
       "72           73      351         a\n",
       "341         342      290         a\n",
       "385         386      250         a\n",
       "416         417    37324         a\n",
       "712         713      255         a\n",
       "...         ...      ...       ...\n",
       "404304   404305      360         a\n",
       "404315   404316      262         a\n",
       "404543   404544      369         a\n",
       "404602   404603      251         a\n",
       "404767   404768      231         a\n",
       "\n",
       "[1928 rows x 3 columns]"
      ]
     },
     "execution_count": 36,
     "metadata": {},
     "output_type": "execute_result"
    }
   ],
   "source": [
    "df.query(\"testgroup == \\\"a\\\" and revenue > 0\")"
   ]
  },
  {
   "cell_type": "code",
   "execution_count": 37,
   "metadata": {},
   "outputs": [
    {
     "data": {
      "text/plain": [
       "0.009539690157988749"
      ]
     },
     "execution_count": 37,
     "metadata": {},
     "output_type": "execute_result"
    }
   ],
   "source": [
    "1928/202103"
   ]
  },
  {
   "cell_type": "code",
   "execution_count": 38,
   "metadata": {
    "scrolled": false
   },
   "outputs": [
    {
     "data": {
      "text/html": [
       "<div>\n",
       "<style scoped>\n",
       "    .dataframe tbody tr th:only-of-type {\n",
       "        vertical-align: middle;\n",
       "    }\n",
       "\n",
       "    .dataframe tbody tr th {\n",
       "        vertical-align: top;\n",
       "    }\n",
       "\n",
       "    .dataframe thead th {\n",
       "        text-align: right;\n",
       "    }\n",
       "</style>\n",
       "<table border=\"1\" class=\"dataframe\">\n",
       "  <thead>\n",
       "    <tr style=\"text-align: right;\">\n",
       "      <th></th>\n",
       "      <th>user_id</th>\n",
       "      <th>revenue</th>\n",
       "      <th>testgroup</th>\n",
       "    </tr>\n",
       "  </thead>\n",
       "  <tbody>\n",
       "    <tr>\n",
       "      <th>160</th>\n",
       "      <td>161</td>\n",
       "      <td>3797</td>\n",
       "      <td>b</td>\n",
       "    </tr>\n",
       "    <tr>\n",
       "      <th>377</th>\n",
       "      <td>378</td>\n",
       "      <td>3768</td>\n",
       "      <td>b</td>\n",
       "    </tr>\n",
       "    <tr>\n",
       "      <th>386</th>\n",
       "      <td>387</td>\n",
       "      <td>3527</td>\n",
       "      <td>b</td>\n",
       "    </tr>\n",
       "    <tr>\n",
       "      <th>551</th>\n",
       "      <td>552</td>\n",
       "      <td>2038</td>\n",
       "      <td>b</td>\n",
       "    </tr>\n",
       "    <tr>\n",
       "      <th>913</th>\n",
       "      <td>914</td>\n",
       "      <td>3902</td>\n",
       "      <td>b</td>\n",
       "    </tr>\n",
       "    <tr>\n",
       "      <th>...</th>\n",
       "      <td>...</td>\n",
       "      <td>...</td>\n",
       "      <td>...</td>\n",
       "    </tr>\n",
       "    <tr>\n",
       "      <th>403843</th>\n",
       "      <td>403844</td>\n",
       "      <td>3383</td>\n",
       "      <td>b</td>\n",
       "    </tr>\n",
       "    <tr>\n",
       "      <th>403994</th>\n",
       "      <td>403995</td>\n",
       "      <td>2793</td>\n",
       "      <td>b</td>\n",
       "    </tr>\n",
       "    <tr>\n",
       "      <th>404161</th>\n",
       "      <td>404162</td>\n",
       "      <td>2316</td>\n",
       "      <td>b</td>\n",
       "    </tr>\n",
       "    <tr>\n",
       "      <th>404193</th>\n",
       "      <td>404194</td>\n",
       "      <td>2998</td>\n",
       "      <td>b</td>\n",
       "    </tr>\n",
       "    <tr>\n",
       "      <th>404525</th>\n",
       "      <td>404526</td>\n",
       "      <td>3120</td>\n",
       "      <td>b</td>\n",
       "    </tr>\n",
       "  </tbody>\n",
       "</table>\n",
       "<p>1805 rows × 3 columns</p>\n",
       "</div>"
      ],
      "text/plain": [
       "        user_id  revenue testgroup\n",
       "160         161     3797         b\n",
       "377         378     3768         b\n",
       "386         387     3527         b\n",
       "551         552     2038         b\n",
       "913         914     3902         b\n",
       "...         ...      ...       ...\n",
       "403843   403844     3383         b\n",
       "403994   403995     2793         b\n",
       "404161   404162     2316         b\n",
       "404193   404194     2998         b\n",
       "404525   404526     3120         b\n",
       "\n",
       "[1805 rows x 3 columns]"
      ]
     },
     "execution_count": 38,
     "metadata": {},
     "output_type": "execute_result"
    }
   ],
   "source": [
    "df.query(\"testgroup == \\\"b\\\" and revenue > 0\")"
   ]
  },
  {
   "cell_type": "code",
   "execution_count": 39,
   "metadata": {},
   "outputs": [
    {
     "data": {
      "text/plain": [
       "0.008906235351586593"
      ]
     },
     "execution_count": 39,
     "metadata": {},
     "output_type": "execute_result"
    }
   ],
   "source": [
    "1805 / 202667"
   ]
  },
  {
   "cell_type": "markdown",
   "metadata": {},
   "source": [
    "Сравним количество \n",
    "пользователей и визуализируем"
   ]
  },
  {
   "cell_type": "code",
   "execution_count": 40,
   "metadata": {},
   "outputs": [],
   "source": [
    "gruppa = df \\\n",
    "    .groupby('testgroup', as_index = False) \\\n",
    "    .agg({'user_id' : 'count'}) \\\n",
    "    .rename(columns = {'user_id' : 'count'})"
   ]
  },
  {
   "cell_type": "code",
   "execution_count": 81,
   "metadata": {},
   "outputs": [
    {
     "data": {
      "image/png": "[encoded data removed]",
      "text/plain": [
       "<Figure size 1152x648 with 1 Axes>"
      ]
     },
     "metadata": {},
     "output_type": "display_data"
    },
    {
     "name": "stdout",
     "output_type": "stream",
     "text": [
      "b=202667\n",
      "a=202103\n"
     ]
    }
   ],
   "source": [
    "plt.figure()\n",
    "\n",
    "plt.barh(y = gruppa['testgroup'],\n",
    "         width = gruppa['count'],\n",
    "         color = ['blue', 'red'],\n",
    "         height = 0.5,\n",
    "         edgecolor = 'black',\n",
    "         linewidth = 2)\n",
    "\n",
    "plt.yticks(color = 'black',\n",
    "           fontsize = 32,\n",
    "           family = 'sans-serif')\n",
    "\n",
    "\n",
    "\n",
    "plt.show()\n",
    "\n",
    "print(\"b=202667\")\n",
    "print(\"a=202103\")"
   ]
  },
  {
   "cell_type": "markdown",
   "metadata": {},
   "source": [
    "Найдем соотношение платящих пользователей к общему числу. Найдем Конверсию"
   ]
  },
  {
   "cell_type": "code",
   "execution_count": 43,
   "metadata": {},
   "outputs": [
    {
     "data": {
      "text/html": [
       "<div>\n",
       "<style scoped>\n",
       "    .dataframe tbody tr th:only-of-type {\n",
       "        vertical-align: middle;\n",
       "    }\n",
       "\n",
       "    .dataframe tbody tr th {\n",
       "        vertical-align: top;\n",
       "    }\n",
       "\n",
       "    .dataframe thead th {\n",
       "        text-align: right;\n",
       "    }\n",
       "</style>\n",
       "<table border=\"1\" class=\"dataframe\">\n",
       "  <thead>\n",
       "    <tr style=\"text-align: right;\">\n",
       "      <th></th>\n",
       "      <th>user_id</th>\n",
       "      <th>revenue</th>\n",
       "      <th>testgroup</th>\n",
       "      <th>buyers</th>\n",
       "    </tr>\n",
       "  </thead>\n",
       "  <tbody>\n",
       "    <tr>\n",
       "      <th>0</th>\n",
       "      <td>1</td>\n",
       "      <td>0</td>\n",
       "      <td>b</td>\n",
       "      <td>no</td>\n",
       "    </tr>\n",
       "    <tr>\n",
       "      <th>1</th>\n",
       "      <td>2</td>\n",
       "      <td>0</td>\n",
       "      <td>a</td>\n",
       "      <td>no</td>\n",
       "    </tr>\n",
       "    <tr>\n",
       "      <th>2</th>\n",
       "      <td>3</td>\n",
       "      <td>0</td>\n",
       "      <td>a</td>\n",
       "      <td>no</td>\n",
       "    </tr>\n",
       "    <tr>\n",
       "      <th>3</th>\n",
       "      <td>4</td>\n",
       "      <td>0</td>\n",
       "      <td>b</td>\n",
       "      <td>no</td>\n",
       "    </tr>\n",
       "    <tr>\n",
       "      <th>4</th>\n",
       "      <td>5</td>\n",
       "      <td>0</td>\n",
       "      <td>b</td>\n",
       "      <td>no</td>\n",
       "    </tr>\n",
       "  </tbody>\n",
       "</table>\n",
       "</div>"
      ],
      "text/plain": [
       "   user_id  revenue testgroup buyers\n",
       "0        1        0         b     no\n",
       "1        2        0         a     no\n",
       "2        3        0         a     no\n",
       "3        4        0         b     no\n",
       "4        5        0         b     no"
      ]
     },
     "execution_count": 43,
     "metadata": {},
     "output_type": "execute_result"
    }
   ],
   "source": [
    "buyers = []\n",
    "for i in df['revenue']:\n",
    "    if i == 0:\n",
    "        x = 'no'\n",
    "    else:\n",
    "        x = 'yes'\n",
    "    buyers.append(x)\n",
    "df['buyers'] = buyers\n",
    "df.head()"
   ]
  },
  {
   "cell_type": "markdown",
   "metadata": {},
   "source": [
    "Сделаем сравнение платящих пользователей "
   ]
  },
  {
   "cell_type": "code",
   "execution_count": 44,
   "metadata": {},
   "outputs": [],
   "source": [
    "gruppa_buyers = df \\\n",
    "    .groupby(['buyers', 'testgroup'], as_index = False) \\\n",
    "    .agg({'user_id' : 'count'}) \\\n",
    "    .rename(columns = {'user_id' : 'count'}) \\\n",
    "    .sort_values('testgroup') \\\n",
    "    .reset_index(drop = True)\n",
    "gruppa_buyers['combination'] = gruppa_buyers['buyers'] + '_' + gruppa_buyers['testgroup']\n",
    "gruppa_buyers['percentage'] = round(gruppa_buyers['count'][:2] / gruppa_buyers['count'][:2].sum() * 100, 2)\n",
    "gruppa_buyers['percentage'][2:] = round(gruppa_buyers['count'][2:] / gruppa_buyers['count'][2:].sum() * 100, 2)\n"
   ]
  },
  {
   "cell_type": "markdown",
   "metadata": {},
   "source": [
    "Посчитаем ARPU для контрольной и тестовой групп"
   ]
  },
  {
   "cell_type": "code",
   "execution_count": 64,
   "metadata": {},
   "outputs": [
    {
     "name": "stdout",
     "output_type": "stream",
     "text": [
      "ARPU_control = 25.41\n",
      "ARPU_test = 26.75\n",
      "ARPU_test > ARPU_control на 5.01%\n"
     ]
    }
   ],
   "source": [
    "ARPU_control = df.query('testgroup == \\\"a\\\"').revenue.mean().round(2)\n",
    "ARPU_test = df.query('testgroup == \\\"b\\\"').revenue.mean().round(2)\n",
    "    \n",
    "print('ARPU_control =',ARPU_control)\n",
    "print('ARPU_test =',ARPU_test)\n",
    "print(f'ARPU_test > ARPU_control на {round((ARPU_test-ARPU_control)/ARPU_test*100, 2)}%')"
   ]
  },
  {
   "cell_type": "markdown",
   "metadata": {},
   "source": [
    "Построим распределения платящих пользователей для контрольной и тестовой групп, но теперь без учёта выбросов."
   ]
  },
  {
   "cell_type": "code",
   "execution_count": 58,
   "metadata": {},
   "outputs": [
    {
     "data": {
      "image/png": "[encoded data removed]",
      "text/plain": [
       "<Figure size 1152x648 with 2 Axes>"
      ]
     },
     "metadata": {},
     "output_type": "display_data"
    }
   ],
   "source": [
    "plt.subplot(1, 2, 1)\n",
    "df.query('testgroup == \\\"a\\\" and 0 < revenue < 5000')['revenue'].hist(color='blue')\n",
    "plt.xlabel('Control')\n",
    "plt.subplot(1, 2, 2)\n",
    "df.query('testgroup == \\\"b\\\" and revenue > 0')['revenue'].hist(color=\"red\")\n",
    "plt.xlabel('Test')\n",
    "sns.despine()"
   ]
  },
  {
   "cell_type": "markdown",
   "metadata": {},
   "source": [
    "По графикам видно, что, если не принимать во внимание выбросы в контрольной группе, то размах Revenue в контрольной группе 200 - 400, а в тестовой 2000 - 4000. Разница очевидна. Посчитаем точно"
   ]
  },
  {
   "cell_type": "code",
   "execution_count": null,
   "metadata": {},
   "outputs": [],
   "source": []
  },
  {
   "cell_type": "code",
   "execution_count": 47,
   "metadata": {},
   "outputs": [
    {
     "data": {
      "text/html": [
       "<div>\n",
       "<style scoped>\n",
       "    .dataframe tbody tr th:only-of-type {\n",
       "        vertical-align: middle;\n",
       "    }\n",
       "\n",
       "    .dataframe tbody tr th {\n",
       "        vertical-align: top;\n",
       "    }\n",
       "\n",
       "    .dataframe thead th {\n",
       "        text-align: right;\n",
       "    }\n",
       "</style>\n",
       "<table border=\"1\" class=\"dataframe\">\n",
       "  <thead>\n",
       "    <tr style=\"text-align: right;\">\n",
       "      <th></th>\n",
       "      <th>buyers</th>\n",
       "      <th>testgroup</th>\n",
       "      <th>count</th>\n",
       "      <th>combination</th>\n",
       "      <th>percentage</th>\n",
       "    </tr>\n",
       "  </thead>\n",
       "  <tbody>\n",
       "    <tr>\n",
       "      <th>0</th>\n",
       "      <td>no</td>\n",
       "      <td>a</td>\n",
       "      <td>200175</td>\n",
       "      <td>no_a</td>\n",
       "      <td>99.05</td>\n",
       "    </tr>\n",
       "    <tr>\n",
       "      <th>1</th>\n",
       "      <td>yes</td>\n",
       "      <td>a</td>\n",
       "      <td>1928</td>\n",
       "      <td>yes_a</td>\n",
       "      <td>0.95</td>\n",
       "    </tr>\n",
       "    <tr>\n",
       "      <th>2</th>\n",
       "      <td>no</td>\n",
       "      <td>b</td>\n",
       "      <td>200862</td>\n",
       "      <td>no_b</td>\n",
       "      <td>99.11</td>\n",
       "    </tr>\n",
       "    <tr>\n",
       "      <th>3</th>\n",
       "      <td>yes</td>\n",
       "      <td>b</td>\n",
       "      <td>1805</td>\n",
       "      <td>yes_b</td>\n",
       "      <td>0.89</td>\n",
       "    </tr>\n",
       "  </tbody>\n",
       "</table>\n",
       "</div>"
      ],
      "text/plain": [
       "  buyers testgroup   count combination  percentage\n",
       "0     no         a  200175        no_a       99.05\n",
       "1    yes         a    1928       yes_a        0.95\n",
       "2     no         b  200862        no_b       99.11\n",
       "3    yes         b    1805       yes_b        0.89"
      ]
     },
     "execution_count": 47,
     "metadata": {},
     "output_type": "execute_result"
    }
   ],
   "source": [
    "gruppa_buyers"
   ]
  },
  {
   "cell_type": "markdown",
   "metadata": {},
   "source": [
    "Видим, что в группе а конверсия выше, чем в группе б. Проверим статистическую значимость при помощи p-value"
   ]
  },
  {
   "cell_type": "code",
   "execution_count": 48,
   "metadata": {},
   "outputs": [
    {
     "name": "stdout",
     "output_type": "stream",
     "text": [
      "Нулевая гипотеза отклоняется, есть стат. значимое влияние\n"
     ]
    }
   ],
   "source": [
    "a = 0.05\n",
    "stat, p = stats.chi2_contingency(pd.crosstab(df['testgroup'], df['buyers']))[:2]\n",
    "if p < a:\n",
    "    print('Нулевая гипотеза отклоняется, есть стат. значимое влияние')\n",
    "else:\n",
    "    print('Нулевая гипотеза не отклоняется, нет стат. значимого влияния')"
   ]
  },
  {
   "cell_type": "code",
   "execution_count": 49,
   "metadata": {},
   "outputs": [],
   "source": [
    "stat, p = stats.chi2_contingency(pd.crosstab(df['testgroup'], df['buyers']))[:2]"
   ]
  },
  {
   "cell_type": "code",
   "execution_count": 50,
   "metadata": {},
   "outputs": [
    {
     "data": {
      "text/plain": [
       "4.374729521260405"
      ]
     },
     "execution_count": 50,
     "metadata": {},
     "output_type": "execute_result"
    }
   ],
   "source": [
    "stat"
   ]
  },
  {
   "cell_type": "code",
   "execution_count": 51,
   "metadata": {},
   "outputs": [
    {
     "data": {
      "text/plain": [
       "0.03647561892312613"
      ]
     },
     "execution_count": 51,
     "metadata": {},
     "output_type": "execute_result"
    }
   ],
   "source": [
    "p"
   ]
  },
  {
   "cell_type": "markdown",
   "metadata": {},
   "source": [
    "Значение p=0.03 - это значит, что гипотеза о отсутсвиии виляния ивента на платящую группу отклоняется! Так как p меньше 0.05! Вывод: Ивент имеет влияние на платящих пользователей."
   ]
  },
  {
   "cell_type": "markdown",
   "metadata": {},
   "source": [
    "Считаем выручку на пользователя ARPU  ARPPU"
   ]
  },
  {
   "cell_type": "code",
   "execution_count": 52,
   "metadata": {},
   "outputs": [],
   "source": [
    "arpu_by_group = round(df \\\n",
    "    .groupby('testgroup', as_index = False) \\\n",
    "    .agg({'revenue' : 'mean'}), 2)\n",
    "\n",
    "arppu_by_group = round(df \\\n",
    "    .query('revenue > 0') \\\n",
    "    .groupby('testgroup', as_index = False) \\\n",
    "    .agg({'revenue' : 'mean'}), 2)\n"
   ]
  },
  {
   "cell_type": "code",
   "execution_count": 53,
   "metadata": {},
   "outputs": [
    {
     "data": {
      "text/html": [
       "<div>\n",
       "<style scoped>\n",
       "    .dataframe tbody tr th:only-of-type {\n",
       "        vertical-align: middle;\n",
       "    }\n",
       "\n",
       "    .dataframe tbody tr th {\n",
       "        vertical-align: top;\n",
       "    }\n",
       "\n",
       "    .dataframe thead th {\n",
       "        text-align: right;\n",
       "    }\n",
       "</style>\n",
       "<table border=\"1\" class=\"dataframe\">\n",
       "  <thead>\n",
       "    <tr style=\"text-align: right;\">\n",
       "      <th></th>\n",
       "      <th>testgroup</th>\n",
       "      <th>revenue</th>\n",
       "    </tr>\n",
       "  </thead>\n",
       "  <tbody>\n",
       "    <tr>\n",
       "      <th>0</th>\n",
       "      <td>a</td>\n",
       "      <td>25.41</td>\n",
       "    </tr>\n",
       "    <tr>\n",
       "      <th>1</th>\n",
       "      <td>b</td>\n",
       "      <td>26.75</td>\n",
       "    </tr>\n",
       "  </tbody>\n",
       "</table>\n",
       "</div>"
      ],
      "text/plain": [
       "  testgroup  revenue\n",
       "0         a    25.41\n",
       "1         b    26.75"
      ]
     },
     "execution_count": 53,
     "metadata": {},
     "output_type": "execute_result"
    }
   ],
   "source": [
    "arpu_by_group"
   ]
  },
  {
   "cell_type": "code",
   "execution_count": 54,
   "metadata": {},
   "outputs": [
    {
     "data": {
      "text/html": [
       "<div>\n",
       "<style scoped>\n",
       "    .dataframe tbody tr th:only-of-type {\n",
       "        vertical-align: middle;\n",
       "    }\n",
       "\n",
       "    .dataframe tbody tr th {\n",
       "        vertical-align: top;\n",
       "    }\n",
       "\n",
       "    .dataframe thead th {\n",
       "        text-align: right;\n",
       "    }\n",
       "</style>\n",
       "<table border=\"1\" class=\"dataframe\">\n",
       "  <thead>\n",
       "    <tr style=\"text-align: right;\">\n",
       "      <th></th>\n",
       "      <th>testgroup</th>\n",
       "      <th>revenue</th>\n",
       "    </tr>\n",
       "  </thead>\n",
       "  <tbody>\n",
       "    <tr>\n",
       "      <th>0</th>\n",
       "      <td>a</td>\n",
       "      <td>2664.00</td>\n",
       "    </tr>\n",
       "    <tr>\n",
       "      <th>1</th>\n",
       "      <td>b</td>\n",
       "      <td>3003.66</td>\n",
       "    </tr>\n",
       "  </tbody>\n",
       "</table>\n",
       "</div>"
      ],
      "text/plain": [
       "  testgroup  revenue\n",
       "0         a  2664.00\n",
       "1         b  3003.66"
      ]
     },
     "execution_count": 54,
     "metadata": {},
     "output_type": "execute_result"
    }
   ],
   "source": [
    "arppu_by_group"
   ]
  },
  {
   "cell_type": "markdown",
   "metadata": {},
   "source": [
    "Видим, что в группе \"b\", средняя выручка на пользователя выше."
   ]
  },
  {
   "cell_type": "markdown",
   "metadata": {},
   "source": [
    "Изучим распределение выручки."
   ]
  },
  {
   "cell_type": "code",
   "execution_count": 89,
   "metadata": {},
   "outputs": [
    {
     "data": {
      "text/plain": [
       "<matplotlib.axes._axes.Axes at 0x7f6a4c444c88>"
      ]
     },
     "execution_count": 89,
     "metadata": {},
     "output_type": "execute_result"
    },
    {
     "data": {
      "image/png": "[encoded data removed]",
      "text/plain": [
       "<Figure size 936x216 with 2 Axes>"
      ]
     },
     "metadata": {},
     "output_type": "display_data"
    }
   ],
   "source": [
    "fig = plt.figure(figsize = (13, 3))\n",
    "\n",
    "ax0 = fig.add_axes([0, 0, 0.8, 0.8])\n",
    "ax1 = fig.add_axes([0, -1, 0.8, 0.8])\n",
    "\n",
    "sns.histplot(df.query(\"testgroup == 'a' & revenue > 0\")['revenue'],\n",
    "               ax = ax0,\n",
    "               color = 'blue',\n",
    "               edgecolor = 'black',\n",
    "               linewidth = 4)\n",
    "\n",
    "sns.histplot(df.query(\"testgroup == 'b' & revenue > 0\")['revenue'],\n",
    "               ax = ax1,\n",
    "               color = 'red',\n",
    "               edgecolor = 'black',\n",
    "               linewidth = 3)"
   ]
  },
  {
   "cell_type": "markdown",
   "metadata": {},
   "source": [
    "Видим, что в группе \"b\", платящие платят более равномерно, чеки крепнее, по отношению к группе \"a\"."
   ]
  },
  {
   "cell_type": "markdown",
   "metadata": {},
   "source": [
    "Необходимо понять, есть ли статистически значемые отклонения между ARPU и ARPPU\n",
    "используем t test"
   ]
  },
  {
   "cell_type": "code",
   "execution_count": 56,
   "metadata": {},
   "outputs": [
    {
     "name": "stdout",
     "output_type": "stream",
     "text": [
      "0.5329647014130866\n",
      "Нуелвая гипотеза о равенстве средних не отклонена\n"
     ]
    }
   ],
   "source": [
    "a2 = 0.05\n",
    "p = stats.ttest_ind(df.query(\"testgroup == 'a'\")['revenue'], df.query(\"testgroup == 'b'\")['revenue'], \n",
    "                    equal_var = False)[1]\n",
    "print(p)\n",
    "if p < a2:\n",
    "    print('Нулевая гипотеза о равенстве средних отклонена')\n",
    "else:\n",
    "    print('Нуелвая гипотеза о равенстве средних не отклонена')"
   ]
  },
  {
   "cell_type": "markdown",
   "metadata": {},
   "source": [
    "t-test показал, что нет статистически значимой разницы между ARPU группы а и группы b."
   ]
  },
  {
   "cell_type": "markdown",
   "metadata": {},
   "source": [
    "Вывод: вывод неоднозначен получился, с одной стороны мы видим, что нововведение в виде ивента, повлияло на платящих людей в группах, в группе \"а\" покупают на 0.06% больше чем в группе \"b\", но в группе \"b\" платят достаточно равномерно, а в группе \"а\" есть всплеск резких и дорогих покупок. Так же мы наблюдаем отсутсвие статистически значимых отклонений при вычислении p value для ARPU, может ли это нам доказывать, что введение ивента не влияет на покупательскую способность. Вывод: ввести ивент для группы \"b\" - есть риск, что эти статистически значимые значения не имеют влияние на \"ивент\". "
   ]
  },
  {
   "cell_type": "markdown",
   "metadata": {},
   "source": [
    "### TASK 3"
   ]
  },
  {
   "cell_type": "markdown",
   "metadata": {},
   "source": [
    "1. MAU - используем метрику для понимания кол-ва уникальных пользователей в месяц во время события\n",
    "Узнаем сколько уже активных пользователей вспомнили про нашу игру благодаря данному ивену - мы разделим MAU / число всех клиентов в приложении и получим долю вернувшихся клиентов во время \"ивента\" \n",
    "Может зарегистрированным пользоватлям подарить пак бустеров.\n",
    "\n",
    "\n",
    "\n"
   ]
  },
  {
   "cell_type": "markdown",
   "metadata": {},
   "source": [
    "2. Затем проверим а) Сколько новых пользователей в течении месяца зарегистрировались и прошли \"ивент\" до конца; б) Сколько активных пользователей прошли до конца \"ивент\"; тем самым мы узнаем насколько этот ивент понравился пользователям, может слишком трудный \"ивент\", может для новых клиентов он подходит, а для активных игроков будет не интересно(уже скучно). Тогда можно будет улучшить призы, увеличить сложность, подготовить более глубокий лор игры.\n",
    "При помощи формулы ATTP - среднее время прохождения ивента мы узнаем event retention"
   ]
  },
  {
   "cell_type": "markdown",
   "metadata": {},
   "source": [
    "3. Так же нам понадобится узнать сколько пользователей проигнорировали наше событие, даже ни разу не сыграв, нужно будет разобраться почему так произошло, если процент будет низкий 0.001%, то можно будет оптимизировать данную формулу \"игнора\" и сделать из этого формулу которая будет считать пользователей которые один раз сыграли в ивент и затем больше не играли, доля будет больше и так мы сможем вернее дать гипотезу почему клиентам не понравился ивент \\\n",
    "метрика Ignore rate"
   ]
  },
  {
   "cell_type": "markdown",
   "metadata": {},
   "source": [
    "4. Затем нужно расчитать Revenue относящиеся исколючительно к собитыю/ивенту, сколько заработано за ивент, и вывести гипотезу, нужно ли добавлять донат например усиленная броня для финального босса, в случае с нашим садом наверное ускоренный рост растений. Или пользователи и так приобретают бустеры, или наоборот им так легко что не нужно донатить. Получичается нужно фиксить баги в ивенте, добавлять или убирать уровни сложности. Добавлять или убирать донаты."
   ]
  },
  {
   "cell_type": "markdown",
   "metadata": {},
   "source": [
    "Усложненная механика\n",
    "1. В этом ивенте, где тебя откатывают назад за проигрыш, нужно понять насколько сложные уровни, то есть ввести метрику которая покажет на каком уровне сливается пользователь, и тем самым мы узнаем есть ли смысл отката, или игроку достаточно просто заходить в игру чаще, чтобы прокачать своих растений и они стали сильнее для того чтобы пройти тот уровень на котором ты вылетаешь. Мы узнаем, насколько пользователь вовлечен в игру, и трепетно прокачивает свои растения, может быть он после того как не прошел уровень, понял что у него слишком слабый сад и вовсе перехотел играть, так как расчитывает что не справится, или настолько легко, что вышел, так как нет конкуренции.\n",
    "Lose level rate\n",
    "\n",
    "Для проверки кол ва людей прошедших собите до конца с нвоой механикой по отношению к тем пользователям которые проходили по старой можно при помощи proportions_ztest() библиотека statsmodels.api"
   ]
  },
  {
   "cell_type": "markdown",
   "metadata": {},
   "source": [
    "2. Так же будет интересно узнать среднедневное число попыток по отношению к средненельным запуском приложения, насколько часто игрок заходя в игру проигрывает и возвращается обратно, в неделю раз. Если мало, то есть один день играет неделю не играет, у игры слабая ежедневная \"халява\", ежедневные бонусы, еженедельные паки, зайди 7 раз подряд получи буст для цветка. Тем самым игрок сможет за ивент около 4 раз усилить свой сад и побороться на ивенте и выиграть даже с откатами, а если ему нужно будет просто заходить и по новой стараться обыграть противников без улучшений своих нынешних стаков растений, его это быстро расстроит и он уйдет.\n",
    "\n",
    "Набор метрик можно использовать тот же, так как мы в целом ничего не меняем, у нас становится либо сложнее либо легче играть, сама задумка ивента не меняеся структура таже. Добавим метрики проигрыша пользователя и визуализируем для удобства, и добавим метрику попыток"
   ]
  },
  {
   "cell_type": "code",
   "execution_count": null,
   "metadata": {},
   "outputs": [],
   "source": []
  },
  {
   "cell_type": "code",
   "execution_count": null,
   "metadata": {},
   "outputs": [],
   "source": []
  },
  {
   "cell_type": "code",
   "execution_count": null,
   "metadata": {},
   "outputs": [],
   "source": []
  }
 ],
 "metadata": {
  "kernelspec": {
   "display_name": "Python 3",
   "language": "python",
   "name": "python3"
  },
  "language_info": {
   "codemirror_mode": {
    "name": "ipython",
    "version": 3
   },
   "file_extension": ".py",
   "mimetype": "text/x-python",
   "name": "python",
   "nbconvert_exporter": "python",
   "pygments_lexer": "ipython3",
   "version": "3.7.3"
  }
 },
 "nbformat": 4,
 "nbformat_minor": 4
}
